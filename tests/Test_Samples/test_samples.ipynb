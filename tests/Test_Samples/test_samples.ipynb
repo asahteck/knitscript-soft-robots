{
 "cells": [
  {
   "cell_type": "markdown",
   "source": [
    "# Simple Tube Example"
   ],
   "metadata": {
    "collapsed": false
   },
   "id": "3a72367ae92c459f"
  },
  {
   "cell_type": "code",
   "execution_count": 4,
   "outputs": [
    {
     "name": "stdout",
     "output_type": "stream",
     "text": [
      "\n",
      "###################Start Knit Script Interpreter on tube_test.ks###################\n",
      "\n",
      "KS: Cast on 4loops from 1to 5\n",
      "KS: Cast on 4loops from 1to 5\n",
      "\n",
      "################Converting tube_test.k to DAT file tube_test.dat ########\n"
     ]
    }
   ],
   "source": [
    "from knit_script.interpret import knit_script_to_knitout_to_dat\n",
    "\n",
    "knit_graph, _machine_state = knit_script_to_knitout_to_dat(\"tube_test.ks\", \"tube_test.k\", \"tube_test.dat\", pattern_is_filename=True, width=4, height = 4)"
   ],
   "metadata": {
    "collapsed": false,
    "ExecuteTime": {
     "end_time": "2023-10-19T19:08:52.631052900Z",
     "start_time": "2023-10-19T19:08:52.414202300Z"
    }
   },
   "id": "initial_id"
  },
  {
   "cell_type": "code",
   "execution_count": 4,
   "outputs": [],
   "source": [],
   "metadata": {
    "collapsed": false,
    "ExecuteTime": {
     "end_time": "2023-10-19T19:08:52.635465300Z",
     "start_time": "2023-10-19T19:08:52.632050500Z"
    }
   },
   "id": "682834f667fae2cf"
  }
 ],
 "metadata": {
  "kernelspec": {
   "display_name": "Python 3",
   "language": "python",
   "name": "python3"
  },
  "language_info": {
   "codemirror_mode": {
    "name": "ipython",
    "version": 2
   },
   "file_extension": ".py",
   "mimetype": "text/x-python",
   "name": "python",
   "nbconvert_exporter": "python",
   "pygments_lexer": "ipython2",
   "version": "2.7.6"
  }
 },
 "nbformat": 4,
 "nbformat_minor": 5
}
