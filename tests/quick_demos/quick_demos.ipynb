{
 "cells": [
  {
   "cell_type": "code",
   "execution_count": 2,
   "outputs": [],
   "source": [
    "def _print_file(filename: str):\n",
    "\twith open( filename, mode='r') as knitout_file:\n",
    "\t\tprint_str = \"\"\n",
    "\t\tfor line in knitout_file.readlines():\n",
    "\t\t\tprint_str += line\n",
    "\t\tprint(print_str)\n"
   ],
   "metadata": {
    "collapsed": false,
    "ExecuteTime": {
     "end_time": "2023-10-19T14:51:45.591250600Z",
     "start_time": "2023-10-19T14:51:45.555859100Z"
    }
   },
   "id": "7281ca991ad9b6cf"
  },
  {
   "cell_type": "markdown",
   "source": [
    "\n",
    "# Quick Knit Script Demos\n",
    "\n",
    "A set of knit-script demos that walk through features of the language\n",
    "\n",
    "## Random Knit Purl Pattern \n",
    "\n",
    "The following knit-script code generates a swatch with a random knit script pattern. It demonstrates:\n",
    "* using parameters\n",
    "* Importing python code\n",
    "* Importing from the standard knit-script library\n",
    "* Conditional Statements\n",
    "* Setting a single carrier\n",
    "* Forming Knitting needle sets\n",
    "* Forming xfer sets"
   ],
   "metadata": {
    "collapsed": false
   },
   "id": "73760c187a76f0a"
  },
  {
   "cell_type": "code",
   "execution_count": 3,
   "outputs": [
    {
     "name": "stdout",
     "output_type": "stream",
     "text": [
      "import cast_ons;\n",
      "import random;\n",
      "\n",
      "with Carrier as 1, width as 10, height as 10:{\n",
      "\tcast_ons.alt_tuck_cast_on(width, knit_lines=0);\n",
      "\tfor r in range(0, height):{\n",
      "\t\txfers = [];\n",
      "\t\tfor active_needle in Loops:{\n",
      "\t\t\tif random.choice([True, False]):{\n",
      "\t\t\t\txfers.append(active_needle);\n",
      "\t\t\t}\n",
      "\t\t}\n",
      "\t\txfer xfers across;\n",
      "\t\tin reverse direction: {\n",
      "\t\t\tknit Loops;\n",
      "\t\t}\n",
      "\t}\n",
      "}\n"
     ]
    }
   ],
   "source": [
    "_print_file('random_kp.ks')"
   ],
   "metadata": {
    "collapsed": false,
    "ExecuteTime": {
     "end_time": "2023-10-19T14:51:45.593244900Z",
     "start_time": "2023-10-19T14:51:45.562025400Z"
    }
   },
   "id": "79414146630c82fd"
  },
  {
   "cell_type": "markdown",
   "source": [
    "Running this code generates the following KnitOut and a dat file.\n",
    "Because of the use of the python random library, the contents will change with each run of the program."
   ],
   "metadata": {
    "collapsed": false
   },
   "id": "cfd05526c2bcf2ad"
  },
  {
   "cell_type": "code",
   "execution_count": 12,
   "outputs": [
    {
     "name": "stdout",
     "output_type": "stream",
     "text": [
      "\n",
      "###################Start Knit Script Interpreter on random_kp.ks###################\n",
      "\n",
      "KS: Cast on 10loops from 1to 11\n",
      "\n",
      "###################Start Knit Script Interpreter on random_kp.ks###################\n",
      "\n",
      "KS: Cast on 10loops from 1to 11\n",
      "\n",
      "###################Start Knit Script Interpreter on random_kp.ks###################\n",
      "\n",
      "KS: Cast on 10loops from 1to 11\n",
      ";!knitout-2\n",
      ";;Carriers: 1 2 3 4 5 6 7 8 9 10\n",
      ";;Machine: SWG091N2\n",
      ";;Gauge: 15\n",
      ";;Width: 540\n",
      ";;Position: Right\n",
      "inhook 1;Activating carrier 1\n",
      "tuck - f9 1\n",
      "tuck - f7 1\n",
      "tuck - f5 1\n",
      "tuck - f3 1\n",
      "tuck - f1 1\n",
      "tuck + f0 1\n",
      "tuck + f2 1\n",
      "tuck + f4 1\n",
      "tuck + f6 1\n",
      "tuck + f8 1\n",
      "releasehook 1\n",
      "xfer f1 b1\n",
      "xfer f3 b3\n",
      "xfer f4 b4\n",
      "xfer f5 b5\n",
      "xfer f8 b8\n",
      "xfer f9 b9\n",
      "knit - b9 1\n",
      "knit - b8 1\n",
      "knit - f7 1\n",
      "knit - f6 1\n",
      "knit - b5 1\n",
      "knit - b4 1\n",
      "knit - b3 1\n",
      "knit - f2 1\n",
      "knit - b1 1\n",
      "knit - f0 1\n",
      "xfer b8 f8\n",
      "xfer f7 b7\n",
      "xfer f6 b6\n",
      "xfer b5 f5\n",
      "xfer b4 f4\n",
      "xfer f2 b2\n",
      "xfer b1 f1\n",
      "xfer f0 b0\n",
      "knit + b0 1\n",
      "knit + f1 1\n",
      "knit + b2 1\n",
      "knit + b3 1\n",
      "knit + f4 1\n",
      "knit + f5 1\n",
      "knit + b6 1\n",
      "knit + b7 1\n",
      "knit + f8 1\n",
      "knit + b9 1\n",
      "xfer f1 b1\n",
      "xfer b2 f2\n",
      "xfer b3 f3\n",
      "xfer b7 f7\n",
      "xfer b9 f9\n",
      "knit - f9 1\n",
      "knit - f8 1\n",
      "knit - f7 1\n",
      "knit - b6 1\n",
      "knit - f5 1\n",
      "knit - f4 1\n",
      "knit - f3 1\n",
      "knit - f2 1\n",
      "knit - b1 1\n",
      "knit - b0 1\n",
      "xfer f8 b8\n",
      "xfer b6 f6\n",
      "xfer f5 b5\n",
      "xfer f2 b2\n",
      "xfer b1 f1\n",
      "xfer b0 f0\n",
      "knit + f0 1\n",
      "knit + f1 1\n",
      "knit + b2 1\n",
      "knit + f3 1\n",
      "knit + f4 1\n",
      "knit + b5 1\n",
      "knit + f6 1\n",
      "knit + f7 1\n",
      "knit + b8 1\n",
      "knit + f9 1\n",
      "xfer b2 f2\n",
      "xfer f6 b6\n",
      "xfer f7 b7\n",
      "xfer b8 f8\n",
      "xfer f9 b9\n",
      "knit - b9 1\n",
      "knit - f8 1\n",
      "knit - b7 1\n",
      "knit - b6 1\n",
      "knit - b5 1\n",
      "knit - f4 1\n",
      "knit - f3 1\n",
      "knit - f2 1\n",
      "knit - f1 1\n",
      "knit - f0 1\n",
      "xfer b9 f9\n",
      "xfer b5 f5\n",
      "xfer f4 b4\n",
      "xfer f3 b3\n",
      "knit + f0 1\n",
      "knit + f1 1\n",
      "knit + f2 1\n",
      "knit + b3 1\n",
      "knit + b4 1\n",
      "knit + f5 1\n",
      "knit + b6 1\n",
      "knit + b7 1\n",
      "knit + f8 1\n",
      "knit + f9 1\n",
      "xfer f0 b0\n",
      "xfer b3 f3\n",
      "xfer b4 f4\n",
      "xfer f5 b5\n",
      "xfer b6 f6\n",
      "xfer b7 f7\n",
      "xfer f9 b9\n",
      "knit - b9 1\n",
      "knit - f8 1\n",
      "knit - f7 1\n",
      "knit - f6 1\n",
      "knit - b5 1\n",
      "knit - f4 1\n",
      "knit - f3 1\n",
      "knit - f2 1\n",
      "knit - f1 1\n",
      "knit - b0 1\n",
      "xfer b9 f9\n",
      "xfer f8 b8\n",
      "xfer f7 b7\n",
      "xfer f6 b6\n",
      "xfer b5 f5\n",
      "xfer f2 b2\n",
      "knit + b0 1\n",
      "knit + f1 1\n",
      "knit + b2 1\n",
      "knit + f3 1\n",
      "knit + f4 1\n",
      "knit + f5 1\n",
      "knit + b6 1\n",
      "knit + b7 1\n",
      "knit + b8 1\n",
      "knit + f9 1\n",
      "xfer f1 b1\n",
      "xfer f3 b3\n",
      "xfer f4 b4\n",
      "xfer b6 f6\n",
      "xfer b8 f8\n",
      "knit - f9 1\n",
      "knit - f8 1\n",
      "knit - b7 1\n",
      "knit - f6 1\n",
      "knit - f5 1\n",
      "knit - b4 1\n",
      "knit - b3 1\n",
      "knit - b2 1\n",
      "knit - b1 1\n",
      "knit - b0 1\n",
      "xfer f9 b9\n",
      "xfer b7 f7\n",
      "xfer b4 f4\n",
      "xfer b3 f3\n",
      "knit + b0 1\n",
      "knit + b1 1\n",
      "knit + b2 1\n",
      "knit + f3 1\n",
      "knit + f4 1\n",
      "knit + f5 1\n",
      "knit + f6 1\n",
      "knit + f7 1\n",
      "knit + f8 1\n",
      "knit + b9 1\n",
      "outhook 1;Cutting all active yarns\n"
     ]
    }
   ],
   "source": [
    "\n",
    "from knit_script.interpret import knit_script_to_knitout\n",
    "\n",
    "for i in range(0, 3):\n",
    "\tknit_graph, _machine_state = knit_script_to_knitout(\"random_kp.ks\", f\"random_kp_{i}.k\", pattern_is_filename=True)\n",
    "\t\n",
    "_print_file(\"random_kp_1.k\")\n"
   ],
   "metadata": {
    "collapsed": false,
    "ExecuteTime": {
     "end_time": "2023-10-19T15:22:26.609399900Z",
     "start_time": "2023-10-19T15:22:26.096455900Z"
    }
   },
   "id": "8bc066c55986d94b"
  },
  {
   "cell_type": "markdown",
   "source": [
    "Run similar code while creating nice borders for swatches."
   ],
   "metadata": {
    "collapsed": false
   },
   "id": "9f7f18c47f57a1a2"
  },
  {
   "cell_type": "code",
   "execution_count": 4,
   "outputs": [
    {
     "name": "stdout",
     "output_type": "stream",
     "text": [
      "\n",
      "###################Start Knit Script Interpreter on random_kp_swatch.ks###################\n",
      "\n",
      "KS: Cast on 76loops from 1to 77\n",
      "\n",
      "################Converting random_kp_0_swatch.k to DAT file random_kp_0.dat ########\n",
      "\n",
      "###################Start Knit Script Interpreter on random_kp_swatch.ks###################\n",
      "\n",
      "KS: Cast on 76loops from 1to 77\n",
      "\n",
      "################Converting random_kp_1_swatch.k to DAT file random_kp_1.dat ########\n",
      "\n",
      "###################Start Knit Script Interpreter on random_kp_swatch.ks###################\n",
      "\n",
      "KS: Cast on 76loops from 1to 77\n",
      "\n",
      "################Converting random_kp_2_swatch.k to DAT file random_kp_2.dat ########\n",
      "\n",
      "###################Start Knit Script Interpreter on random_kp_swatch.ks###################\n",
      "\n",
      "KS: Cast on 76loops from 1to 77\n",
      "\n",
      "################Converting random_kp_3_swatch.k to DAT file random_kp_3.dat ########\n"
     ]
    }
   ],
   "source": [
    "from knit_script.interpret import knit_script_to_knitout_to_dat\n",
    "\n",
    "carriers = [1, 3, 4, 7]\n",
    "for i in range(0, 4):\n",
    "\tknit_graph, _machine_state = knit_script_to_knitout_to_dat(\"random_kp_swatch.ks\", f\"random_kp_{i}_swatch.k\",f\"random_kp_{i}.dat\",\n",
    "\t                                                           python_variables={\"chosen_carrier\": carriers[i]}, pattern_is_filename=True)"
   ],
   "metadata": {
    "collapsed": false,
    "ExecuteTime": {
     "end_time": "2023-10-19T15:29:50.100366200Z",
     "start_time": "2023-10-19T15:29:42.379696500Z"
    }
   },
   "id": "caf54fa11f6804b2"
  },
  {
   "cell_type": "markdown",
   "source": [
    "## Next Demo to come\n",
    "Seed Stitch example"
   ],
   "metadata": {
    "collapsed": false
   },
   "id": "bbc8b27145c7dc17"
  },
  {
   "cell_type": "code",
   "execution_count": 6,
   "outputs": [
    {
     "name": "stdout",
     "output_type": "stream",
     "text": [
      "\n",
      "###################Start Knit Script Interpreter on test_seed.ks###################\n",
      "\n",
      "KS: Cast on 40loops from 1to 41\n",
      "\n",
      "################Converting seed.k to DAT file seed.dat ########\n"
     ]
    }
   ],
   "source": [
    "knit_graph, _machine_state = knit_script_to_knitout_to_dat(\"test_seed.ks\", \"seed.k\", 'seed.dat', \n",
    "                                                           pattern_is_filename=True, python_variables={\"width\": 40, \"height\": 40})"
   ],
   "metadata": {
    "collapsed": false,
    "ExecuteTime": {
     "end_time": "2023-10-19T14:51:53.972485900Z",
     "start_time": "2023-10-19T14:51:53.229386100Z"
    }
   },
   "id": "acd3f0ddb68a9157"
  },
  {
   "cell_type": "markdown",
   "source": [
    "tube"
   ],
   "metadata": {
    "collapsed": false
   },
   "id": "55e11f1ff62aa9d3"
  },
  {
   "cell_type": "code",
   "execution_count": 7,
   "outputs": [
    {
     "name": "stdout",
     "output_type": "stream",
     "text": [
      "\n",
      "###################Start Knit Script Interpreter on tube.ks###################\n",
      "\n",
      "KS: Cast on 40loops from 1to 41\n",
      "KS: Cast on 40loops from 1to 41\n",
      "\n",
      "################Converting tube.k to DAT file tube.dat ########\n"
     ]
    }
   ],
   "source": [
    "name = \"tube\"\n",
    "knit_graph, _machine_state = knit_script_to_knitout_to_dat(f\"{name}.ks\", f\"{name}.k\", f'{name}.dat', \n",
    "                                                           pattern_is_filename=True, python_variables={\"width\": 40, \"height\": 40})\n"
   ],
   "metadata": {
    "collapsed": false,
    "ExecuteTime": {
     "end_time": "2023-10-19T14:51:54.690804400Z",
     "start_time": "2023-10-19T14:51:53.966450200Z"
    }
   },
   "id": "2042b5d10a4afe30"
  },
  {
   "cell_type": "code",
   "execution_count": 8,
   "outputs": [
    {
     "name": "stdout",
     "output_type": "stream",
     "text": [
      "\n",
      "###################Start Knit Script Interpreter on test_ribbing.ks###################\n",
      "\n",
      "KS: Cast on 40loops from 1to 41\n",
      "\n",
      "################Converting ribbing.k to DAT file ribbing.dat ########\n"
     ]
    }
   ],
   "source": [
    "name = \"ribbing\"\n",
    "knit_graph, _machine_state = knit_script_to_knitout_to_dat(f\"test_{name}.ks\", f\"{name}.k\", f'{name}.dat', \n",
    "                                                           pattern_is_filename=True, python_variables={\"width\": 40, \"height\": 40})"
   ],
   "metadata": {
    "collapsed": false,
    "ExecuteTime": {
     "end_time": "2023-10-19T14:51:55.210967Z",
     "start_time": "2023-10-19T14:51:54.687813100Z"
    }
   },
   "id": "325df52c5e71ac10"
  },
  {
   "cell_type": "code",
   "execution_count": 9,
   "outputs": [
    {
     "name": "stdout",
     "output_type": "stream",
     "text": [
      "\n",
      "###################Start Knit Script Interpreter on icord.ks###################\n",
      "\n",
      "\n",
      "################Converting icord.k to DAT file icord.dat ########\n"
     ]
    }
   ],
   "source": [
    "name = \"icord\"\n",
    "knit_graph, _machine_state = knit_script_to_knitout_to_dat(f\"{name}.ks\", f\"{name}.k\", f'{name}.dat', \n",
    "                                                           pattern_is_filename=True, python_variables={\"width\": 40, \"height\": 100})"
   ],
   "metadata": {
    "collapsed": false,
    "ExecuteTime": {
     "end_time": "2023-10-19T14:51:55.623536100Z",
     "start_time": "2023-10-19T14:51:55.201003Z"
    }
   },
   "id": "650cb7eb4d107bc8"
  },
  {
   "cell_type": "code",
   "execution_count": 10,
   "outputs": [
    {
     "name": "stdout",
     "output_type": "stream",
     "text": [
      "\n",
      "###################Start Knit Script Interpreter on test_trinity.ks###################\n",
      "\n",
      "KS: Cast on 12loops from 1to 13\n",
      "KS: {0: 0, 1: 2, 2: 1, 3: 0, 4: 0, 5: 2, 6: 1, 7: 0, 8: 0, 9: 2, 10: 1, 11: 0}\n",
      "KS: {0: 0, 1: 2, 2: 1, 3: 0, 4: 0, 5: 2, 6: 1, 7: 0, 8: 0, 9: 2, 10: 1, 11: 0}\n",
      "KS: {0: 0, 1: 2, 2: 1, 3: 0, 4: 0, 5: 2, 6: 1, 7: 0, 8: 0, 9: 2, 10: 1, 11: 0}\n",
      "KS: {0: 0, 1: 2, 2: 1, 3: 0, 4: 0, 5: 2, 6: 1, 7: 0, 8: 0, 9: 2, 10: 1, 11: 0}\n",
      "KS: {0: 0, 1: 2, 2: 1, 3: 0, 4: 0, 5: 2, 6: 1, 7: 0, 8: 0, 9: 2, 10: 1, 11: 0}\n",
      "KS: {0: 0, 1: 2, 2: 1, 3: 0, 4: 0, 5: 2, 6: 1, 7: 0, 8: 0, 9: 2, 10: 1, 11: 0}\n",
      "KS: {0: 0, 1: 2, 2: 1, 3: 0, 4: 0, 5: 2, 6: 1, 7: 0, 8: 0, 9: 2, 10: 1, 11: 0}\n",
      "KS: {0: 0, 1: 2, 2: 1, 3: 0, 4: 0, 5: 2, 6: 1, 7: 0, 8: 0, 9: 2, 10: 1, 11: 0}\n",
      "KS: {0: 0, 1: 2, 2: 1, 3: 0, 4: 0, 5: 2, 6: 1, 7: 0, 8: 0, 9: 2, 10: 1, 11: 0}\n",
      "KS: {0: 0, 1: 2, 2: 1, 3: 0, 4: 0, 5: 2, 6: 1, 7: 0, 8: 0, 9: 2, 10: 1, 11: 0}\n",
      "KS: {0: 0, 1: 2, 2: 1, 3: 0, 4: 0, 5: 2, 6: 1, 7: 0, 8: 0, 9: 2, 10: 1, 11: 0}\n",
      "KS: {0: 0, 1: 2, 2: 1, 3: 0, 4: 0, 5: 2, 6: 1, 7: 0, 8: 0, 9: 2, 10: 1, 11: 0}\n",
      "KS: {0: 0, 1: 2, 2: 1, 3: 0, 4: 0, 5: 2, 6: 1, 7: 0, 8: 0, 9: 2, 10: 1, 11: 0}\n",
      "KS: {0: 0, 1: 2, 2: 1, 3: 0, 4: 0, 5: 2, 6: 1, 7: 0, 8: 0, 9: 2, 10: 1, 11: 0}\n",
      "KS: {0: 0, 1: 2, 2: 1, 3: 0, 4: 0, 5: 2, 6: 1, 7: 0, 8: 0, 9: 2, 10: 1, 11: 0}\n",
      "KS: {0: 0, 1: 2, 2: 1, 3: 0, 4: 0, 5: 2, 6: 1, 7: 0, 8: 0, 9: 2, 10: 1, 11: 0}\n",
      "KS: {0: 0, 1: 2, 2: 1, 3: 0, 4: 0, 5: 2, 6: 1, 7: 0, 8: 0, 9: 2, 10: 1, 11: 0}\n",
      "KS: {0: 0, 1: 2, 2: 1, 3: 0, 4: 0, 5: 2, 6: 1, 7: 0, 8: 0, 9: 2, 10: 1, 11: 0}\n",
      "KS: {0: 0, 1: 2, 2: 1, 3: 0, 4: 0, 5: 2, 6: 1, 7: 0, 8: 0, 9: 2, 10: 1, 11: 0}\n",
      "KS: {0: 0, 1: 2, 2: 1, 3: 0, 4: 0, 5: 2, 6: 1, 7: 0, 8: 0, 9: 2, 10: 1, 11: 0}\n",
      "KS: {0: 0, 1: 2, 2: 1, 3: 0, 4: 0, 5: 2, 6: 1, 7: 0, 8: 0, 9: 2, 10: 1, 11: 0}\n",
      "KS: {0: 0, 1: 2, 2: 1, 3: 0, 4: 0, 5: 2, 6: 1, 7: 0, 8: 0, 9: 2, 10: 1, 11: 0}\n",
      "KS: {0: 0, 1: 2, 2: 1, 3: 0, 4: 0, 5: 2, 6: 1, 7: 0, 8: 0, 9: 2, 10: 1, 11: 0}\n",
      "KS: {0: 0, 1: 2, 2: 1, 3: 0, 4: 0, 5: 2, 6: 1, 7: 0, 8: 0, 9: 2, 10: 1, 11: 0}\n",
      "KS: {0: 0, 1: 2, 2: 1, 3: 0, 4: 0, 5: 2, 6: 1, 7: 0, 8: 0, 9: 2, 10: 1, 11: 0}\n",
      "KS: {0: 0, 1: 2, 2: 1, 3: 0, 4: 0, 5: 2, 6: 1, 7: 0, 8: 0, 9: 2, 10: 1, 11: 0}\n",
      "KS: {0: 0, 1: 2, 2: 1, 3: 0, 4: 0, 5: 2, 6: 1, 7: 0, 8: 0, 9: 2, 10: 1, 11: 0}\n",
      "KS: {0: 0, 1: 2, 2: 1, 3: 0, 4: 0, 5: 2, 6: 1, 7: 0, 8: 0, 9: 2, 10: 1, 11: 0}\n",
      "KS: {0: 0, 1: 2, 2: 1, 3: 0, 4: 0, 5: 2, 6: 1, 7: 0, 8: 0, 9: 2, 10: 1, 11: 0}\n",
      "KS: {0: 0, 1: 2, 2: 1, 3: 0, 4: 0, 5: 2, 6: 1, 7: 0, 8: 0, 9: 2, 10: 1, 11: 0}\n",
      "KS: {0: 0, 1: 2, 2: 1, 3: 0, 4: 0, 5: 2, 6: 1, 7: 0, 8: 0, 9: 2, 10: 1, 11: 0}\n",
      "KS: {0: 0, 1: 2, 2: 1, 3: 0, 4: 0, 5: 2, 6: 1, 7: 0, 8: 0, 9: 2, 10: 1, 11: 0}\n",
      "KS: {0: 0, 1: 2, 2: 1, 3: 0, 4: 0, 5: 2, 6: 1, 7: 0, 8: 0, 9: 2, 10: 1, 11: 0}\n",
      "KS: {0: 0, 1: 2, 2: 1, 3: 0, 4: 0, 5: 2, 6: 1, 7: 0, 8: 0, 9: 2, 10: 1, 11: 0}\n",
      "KS: {0: 0, 1: 2, 2: 1, 3: 0, 4: 0, 5: 2, 6: 1, 7: 0, 8: 0, 9: 2, 10: 1, 11: 0}\n",
      "KS: {0: 0, 1: 2, 2: 1, 3: 0, 4: 0, 5: 2, 6: 1, 7: 0, 8: 0, 9: 2, 10: 1, 11: 0}\n",
      "KS: {0: 0, 1: 2, 2: 1, 3: 0, 4: 0, 5: 2, 6: 1, 7: 0, 8: 0, 9: 2, 10: 1, 11: 0}\n",
      "KS: {0: 0, 1: 2, 2: 1, 3: 0, 4: 0, 5: 2, 6: 1, 7: 0, 8: 0, 9: 2, 10: 1, 11: 0}\n",
      "KS: {0: 0, 1: 2, 2: 1, 3: 0, 4: 0, 5: 2, 6: 1, 7: 0, 8: 0, 9: 2, 10: 1, 11: 0}\n",
      "KS: {0: 0, 1: 2, 2: 1, 3: 0, 4: 0, 5: 2, 6: 1, 7: 0, 8: 0, 9: 2, 10: 1, 11: 0}\n",
      "\n",
      "################Converting trinity.k to DAT file trinity.dat ########\n"
     ]
    }
   ],
   "source": [
    "name = \"trinity\"\n",
    "knit_graph, _machine_state = knit_script_to_knitout_to_dat(f\"test_{name}.ks\", f\"{name}.k\", f'{name}.dat', \n",
    "                                                           pattern_is_filename=True, python_variables={\"width\": 12, \"height\": 40})"
   ],
   "metadata": {
    "collapsed": false,
    "ExecuteTime": {
     "end_time": "2023-10-19T14:51:56.836577200Z",
     "start_time": "2023-10-19T14:51:55.623536100Z"
    }
   },
   "id": "ecbcf4627e6268c5"
  },
  {
   "cell_type": "markdown",
   "source": [],
   "metadata": {
    "collapsed": false
   },
   "id": "184aa857d847024a"
  },
  {
   "cell_type": "code",
   "execution_count": 11,
   "outputs": [
    {
     "name": "stdout",
     "output_type": "stream",
     "text": [
      "\n",
      "###################Start Knit Script Interpreter on 3D_spiral.ks###################\n",
      "\n",
      "KS: gardner stitch (knit) three rows: \n",
      "KS: knit 1: \n",
      "KS: knit 2: \n",
      "KS: knit 3: \n",
      "KS: 1\n",
      "KS: first kfb: \n",
      "KS: gardner stitch (knit) three rows: \n",
      "KS: knit 1: \n",
      "KS: knit 2: \n",
      "KS: knit 3: \n",
      "KS: 2\n",
      "KS: second kfb: \n",
      "KS: gardner stitch (knit) three rows: \n",
      "KS: knit 1: \n",
      "KS: knit 2: \n",
      "KS: knit 3: \n",
      "KS: 3\n",
      "\n",
      "################Converting 3D_spiral.k to DAT file 3D_spiral.dat ########\n"
     ]
    }
   ],
   "source": [
    "name = \"3D_spiral\"\n",
    "knit_graph, _machine_state = knit_script_to_knitout_to_dat(f\"{name}.ks\", f\"{name}.k\", f'{name}.dat', \n",
    "                                                           pattern_is_filename=True, python_variables={\"width\": 40, \"height\": 100})"
   ],
   "metadata": {
    "collapsed": false,
    "ExecuteTime": {
     "end_time": "2023-10-19T14:51:57.183674900Z",
     "start_time": "2023-10-19T14:51:56.831554Z"
    }
   },
   "id": "11d2b9f0ef0c32fc"
  }
 ],
 "metadata": {
  "kernelspec": {
   "display_name": "Python 3",
   "language": "python",
   "name": "python3"
  },
  "language_info": {
   "codemirror_mode": {
    "name": "ipython",
    "version": 2
   },
   "file_extension": ".py",
   "mimetype": "text/x-python",
   "name": "python",
   "nbconvert_exporter": "python",
   "pygments_lexer": "ipython2",
   "version": "2.7.6"
  }
 },
 "nbformat": 4,
 "nbformat_minor": 5
}
